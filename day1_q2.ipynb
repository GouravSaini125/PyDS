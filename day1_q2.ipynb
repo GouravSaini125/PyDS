{
  "nbformat": 4,
  "nbformat_minor": 0,
  "metadata": {
    "colab": {
      "name": "day1-q2.ipynb",
      "provenance": [],
      "authorship_tag": "ABX9TyNpy3xRgIjIpyJLmziMU+GE",
      "include_colab_link": true
    },
    "kernelspec": {
      "name": "python3",
      "display_name": "Python 3"
    }
  },
  "cells": [
    {
      "cell_type": "markdown",
      "metadata": {
        "id": "view-in-github",
        "colab_type": "text"
      },
      "source": [
        "<a href=\"https://colab.research.google.com/github/GouravSaini125/PyDS/blob/master/day1_q2.ipynb\" target=\"_parent\"><img src=\"https://colab.research.google.com/assets/colab-badge.svg\" alt=\"Open In Colab\"/></a>"
      ]
    },
    {
      "cell_type": "code",
      "metadata": {
        "id": "xUblYnk9BLy3",
        "colab_type": "code",
        "colab": {
          "base_uri": "https://localhost:8080/",
          "height": 105
        },
        "outputId": "7aae0af3-7439-42ff-cf95-fcbcc8001409"
      },
      "source": [
        "print(\"Anagrams!!\") if sorted(input(\"1st string\\n\")) == sorted(input(\"2nd string\\n\")) else print(\"Not Anagrams!\")"
      ],
      "execution_count": 6,
      "outputs": [
        {
          "output_type": "stream",
          "text": [
            "1st string\n",
            "abcd\n",
            "2nd string\n",
            "bdca\n",
            "Anagrams!!\n"
          ],
          "name": "stdout"
        }
      ]
    }
  ]
}